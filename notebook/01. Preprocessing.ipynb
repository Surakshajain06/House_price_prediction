{
 "cells": [
  {
   "cell_type": "markdown",
   "id": "8b24c82c",
   "metadata": {},
   "source": [
    "Remove irrelevant columns "
   ]
  },
  {
   "cell_type": "code",
   "execution_count": 2,
   "id": "972cdf90",
   "metadata": {},
   "outputs": [],
   "source": [
    "import pandas as pd"
   ]
  },
  {
   "cell_type": "code",
   "execution_count": 3,
   "id": "9b1a2bf3",
   "metadata": {},
   "outputs": [
    {
     "name": "stderr",
     "output_type": "stream",
     "text": [
      "C:\\Users\\jains\\AppData\\Local\\Temp\\ipykernel_26416\\3915239096.py:1: DtypeWarning: Columns (1,11,12,14) have mixed types. Specify dtype option on import or set low_memory=False.\n",
      "  df = pd.read_csv(\"../Data/new.csv\", encoding=\"latin1\")\n"
     ]
    }
   ],
   "source": [
    "df = pd.read_csv(\"../Data/new.csv\", encoding=\"latin1\")"
   ]
  },
  {
   "cell_type": "code",
   "execution_count": 4,
   "id": "3ba10b65",
   "metadata": {},
   "outputs": [
    {
     "data": {
      "text/plain": [
       "['url',\n",
       " 'id',\n",
       " 'Lng',\n",
       " 'Lat',\n",
       " 'Cid',\n",
       " 'tradeTime',\n",
       " 'DOM',\n",
       " 'followers',\n",
       " 'totalPrice',\n",
       " 'price',\n",
       " 'square',\n",
       " 'livingRoom',\n",
       " 'drawingRoom',\n",
       " 'kitchen',\n",
       " 'bathRoom',\n",
       " 'floor',\n",
       " 'buildingType',\n",
       " 'constructionTime',\n",
       " 'renovationCondition',\n",
       " 'buildingStructure',\n",
       " 'ladderRatio',\n",
       " 'elevator',\n",
       " 'fiveYearsProperty',\n",
       " 'subway',\n",
       " 'district',\n",
       " 'communityAverage']"
      ]
     },
     "execution_count": 4,
     "metadata": {},
     "output_type": "execute_result"
    }
   ],
   "source": [
    "df.columns.tolist()"
   ]
  },
  {
   "cell_type": "markdown",
   "id": "89e519d6",
   "metadata": {},
   "source": [
    "Remove irrelevant columns"
   ]
  },
  {
   "cell_type": "code",
   "execution_count": null,
   "id": "cc752b21",
   "metadata": {},
   "outputs": [],
   "source": [
    "df = df.drop(columns=['url', 'id', 'Cid'])"
   ]
  },
  {
   "cell_type": "code",
   "execution_count": null,
   "id": "757f0706",
   "metadata": {},
   "outputs": [],
   "source": [
    "df"
   ]
  },
  {
   "cell_type": "markdown",
   "id": "9c72d9bb",
   "metadata": {},
   "source": [
    "Check for the categorical coolumns"
   ]
  },
  {
   "cell_type": "code",
   "execution_count": null,
   "id": "26f014c8",
   "metadata": {},
   "outputs": [],
   "source": [
    "categorical_cols = df.select_dtypes(include=['object', 'category']).columns.tolist()\n",
    "\n",
    "print(\"Categorical Columns:\")\n",
    "print(categorical_cols)\n"
   ]
  },
  {
   "cell_type": "markdown",
   "id": "c557bc62",
   "metadata": {},
   "source": [
    "Convert date to numerical features"
   ]
  },
  {
   "cell_type": "code",
   "execution_count": null,
   "id": "73856747",
   "metadata": {},
   "outputs": [],
   "source": [
    "# Convert tradeTime to datetime\n",
    "df['tradeTime'] = pd.to_datetime(df['tradeTime'], errors='coerce')\n",
    "\n",
    "# Extract year and month\n",
    "df['tradeYear'] = df['tradeTime'].dt.year\n",
    "df['tradeMonth'] = df['tradeTime'].dt.month\n",
    "\n",
    "# Drop the original date column\n",
    "df = df.drop(columns=['tradeTime'])\n"
   ]
  },
  {
   "cell_type": "markdown",
   "id": "a933327e",
   "metadata": {},
   "source": [
    "Handle missing values"
   ]
  },
  {
   "cell_type": "code",
   "execution_count": null,
   "id": "45f30202",
   "metadata": {},
   "outputs": [],
   "source": [
    "# Numeric imputation with median\n",
    "for col in df.select_dtypes(include=['float64', 'int64']):\n",
    "    df[col] = df[col].fillna(df[col].median())\n",
    "\n",
    "# Categorical imputation with mode\n",
    "for col in df.select_dtypes(include=['object']):\n",
    "    df[col] = df[col].fillna(df[col].mode()[0])\n"
   ]
  },
  {
   "cell_type": "markdown",
   "id": "11fecf17",
   "metadata": {},
   "source": [
    "Convert all the categorical columns to strings to avoid the mixed data which can't be taken by LabelEncoder"
   ]
  },
  {
   "cell_type": "code",
   "execution_count": null,
   "id": "7c6b91cb",
   "metadata": {},
   "outputs": [],
   "source": [
    "from sklearn.preprocessing import LabelEncoder\n",
    "\n",
    "# Identify categorical columns\n",
    "categorical_cols = df.select_dtypes(include=['object', 'category']).columns\n",
    "\n",
    "# Ensure all categorical values are strings\n",
    "df[categorical_cols] = df[categorical_cols].astype(str)\n",
    "\n",
    "# Apply Label Encoding\n",
    "le = LabelEncoder()\n",
    "for col in categorical_cols:\n",
    "    df[col] = le.fit_transform(df[col])\n"
   ]
  },
  {
   "cell_type": "markdown",
   "id": "392d13a5",
   "metadata": {},
   "source": [
    "Encode categorical variables - change into nuerical variable"
   ]
  },
  {
   "cell_type": "code",
   "execution_count": null,
   "id": "3cea089e",
   "metadata": {},
   "outputs": [],
   "source": [
    "from sklearn.preprocessing import LabelEncoder\n",
    "\n",
    "# Identify categorical columns\n",
    "categorical_cols = df.select_dtypes(include=['object']).columns\n",
    "\n",
    "# Apply Label Encoding (example — papers sometimes prefer One-Hot)\n",
    "le = LabelEncoder()\n",
    "for col in categorical_cols:\n",
    "    df[col] = le.fit_transform(df[col])\n"
   ]
  },
  {
   "cell_type": "markdown",
   "id": "8f1f40fe",
   "metadata": {},
   "source": [
    "Outlier handling"
   ]
  },
  {
   "cell_type": "code",
   "execution_count": null,
   "id": "c0f76e7c",
   "metadata": {},
   "outputs": [],
   "source": [
    "# Outlier capping using IQR method\n",
    "for col in ['totalPrice', 'price', 'area']:\n",
    "    if col in df.columns:\n",
    "        Q1 = df[col].quantile(0.25)\n",
    "        Q3 = df[col].quantile(0.75)\n",
    "        IQR = Q3 - Q1\n",
    "        lower = Q1 - 1.5 * IQR\n",
    "        upper = Q3 + 1.5 * IQR\n",
    "        df[col] = df[col].clip(lower, upper)\n"
   ]
  },
  {
   "cell_type": "markdown",
   "id": "1ce0262b",
   "metadata": {},
   "source": [
    "Scaling the numeric values - Applied standardization here"
   ]
  },
  {
   "cell_type": "code",
   "execution_count": null,
   "id": "ea2f09d3",
   "metadata": {},
   "outputs": [],
   "source": [
    "from sklearn.preprocessing import StandardScaler\n",
    "\n",
    "scaler = StandardScaler()\n",
    "numeric_cols = df.select_dtypes(include=['float64', 'int64']).columns\n",
    "\n",
    "df[numeric_cols] = scaler.fit_transform(df[numeric_cols])\n"
   ]
  },
  {
   "cell_type": "markdown",
   "id": "492a49e1",
   "metadata": {},
   "source": [
    "Saving preprocessed data in .csv format"
   ]
  },
  {
   "cell_type": "code",
   "execution_count": null,
   "id": "31e94374",
   "metadata": {},
   "outputs": [],
   "source": [
    "# Save the preprocessed data\n",
    "df.to_csv(\"../Data/preprocessed.csv\", index=False, encoding=\"utf-8\")\n",
    "print(\"Preprocessed data saved as preprocessed.csv\")\n"
   ]
  }
 ],
 "metadata": {
  "kernelspec": {
   "display_name": "Python 3",
   "language": "python",
   "name": "python3"
  },
  "language_info": {
   "codemirror_mode": {
    "name": "ipython",
    "version": 3
   },
   "file_extension": ".py",
   "mimetype": "text/x-python",
   "name": "python",
   "nbconvert_exporter": "python",
   "pygments_lexer": "ipython3",
   "version": "3.13.6"
  }
 },
 "nbformat": 4,
 "nbformat_minor": 5
}
